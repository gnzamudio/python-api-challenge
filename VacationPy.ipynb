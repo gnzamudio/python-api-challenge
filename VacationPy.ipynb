{
 "cells": [
  {
   "cell_type": "markdown",
   "source": [
    "# VacationPy\n",
    "----\n",
    "\n",
    "#### Note\n",
    "* Keep an eye on your API usage. Use https://developers.google.com/maps/reporting/gmp-reporting as reference for how to monitor your usage and billing.\n",
    "\n",
    "* Instructions have been included for each segment. You do not have to follow them exactly, but they are included to help you think through the steps."
   ],
   "metadata": {}
  },
  {
   "cell_type": "code",
   "execution_count": 8,
   "source": [
    "# Dependencies and Setup\r\n",
    "import matplotlib.pyplot as plt\r\n",
    "import pandas as pd\r\n",
    "import numpy as np\r\n",
    "import requests\r\n",
    "import gmaps\r\n",
    "import gmaps.datasets\r\n",
    "import os\r\n",
    "\r\n",
    "# Import API key\r\n",
    "from api_keys import g_key"
   ],
   "outputs": [],
   "metadata": {}
  },
  {
   "cell_type": "markdown",
   "source": [
    "### Store Part I results into DataFrame\n",
    "* Load the csv exported in Part I to a DataFrame"
   ],
   "metadata": {}
  },
  {
   "cell_type": "code",
   "execution_count": 5,
   "source": [
    "\r\n",
    "cities_df= pd.read_csv(\"output_data/cities.csv\")\r\n",
    "cities_df.head()"
   ],
   "outputs": [
    {
     "output_type": "execute_result",
     "data": {
      "text/html": [
       "<div>\n",
       "<style scoped>\n",
       "    .dataframe tbody tr th:only-of-type {\n",
       "        vertical-align: middle;\n",
       "    }\n",
       "\n",
       "    .dataframe tbody tr th {\n",
       "        vertical-align: top;\n",
       "    }\n",
       "\n",
       "    .dataframe thead th {\n",
       "        text-align: right;\n",
       "    }\n",
       "</style>\n",
       "<table border=\"1\" class=\"dataframe\">\n",
       "  <thead>\n",
       "    <tr style=\"text-align: right;\">\n",
       "      <th></th>\n",
       "      <th>City</th>\n",
       "      <th>Lat</th>\n",
       "      <th>Lng</th>\n",
       "      <th>Max Temp</th>\n",
       "      <th>Humidity</th>\n",
       "      <th>Cloudiness</th>\n",
       "      <th>Wind Speed</th>\n",
       "      <th>Country</th>\n",
       "      <th>Date</th>\n",
       "    </tr>\n",
       "  </thead>\n",
       "  <tbody>\n",
       "    <tr>\n",
       "      <th>0</th>\n",
       "      <td>Lac du Bonnet</td>\n",
       "      <td>50.2536</td>\n",
       "      <td>-96.0612</td>\n",
       "      <td>66.85</td>\n",
       "      <td>45</td>\n",
       "      <td>90</td>\n",
       "      <td>5.48</td>\n",
       "      <td>CA</td>\n",
       "      <td>1632097829</td>\n",
       "    </tr>\n",
       "    <tr>\n",
       "      <th>1</th>\n",
       "      <td>Rikitea</td>\n",
       "      <td>-23.1203</td>\n",
       "      <td>-134.9692</td>\n",
       "      <td>74.08</td>\n",
       "      <td>76</td>\n",
       "      <td>14</td>\n",
       "      <td>11.52</td>\n",
       "      <td>PF</td>\n",
       "      <td>1632097830</td>\n",
       "    </tr>\n",
       "    <tr>\n",
       "      <th>2</th>\n",
       "      <td>Punta Arenas</td>\n",
       "      <td>-53.1500</td>\n",
       "      <td>-70.9167</td>\n",
       "      <td>41.11</td>\n",
       "      <td>81</td>\n",
       "      <td>20</td>\n",
       "      <td>18.41</td>\n",
       "      <td>CL</td>\n",
       "      <td>1632097830</td>\n",
       "    </tr>\n",
       "    <tr>\n",
       "      <th>3</th>\n",
       "      <td>Kaliua</td>\n",
       "      <td>-5.0606</td>\n",
       "      <td>31.7936</td>\n",
       "      <td>68.90</td>\n",
       "      <td>30</td>\n",
       "      <td>68</td>\n",
       "      <td>5.79</td>\n",
       "      <td>TZ</td>\n",
       "      <td>1632097831</td>\n",
       "    </tr>\n",
       "    <tr>\n",
       "      <th>4</th>\n",
       "      <td>Cape Town</td>\n",
       "      <td>-33.9258</td>\n",
       "      <td>18.4232</td>\n",
       "      <td>58.87</td>\n",
       "      <td>86</td>\n",
       "      <td>75</td>\n",
       "      <td>1.99</td>\n",
       "      <td>ZA</td>\n",
       "      <td>1632097777</td>\n",
       "    </tr>\n",
       "  </tbody>\n",
       "</table>\n",
       "</div>"
      ],
      "text/plain": [
       "            City      Lat       Lng  Max Temp  Humidity  Cloudiness  \\\n",
       "0  Lac du Bonnet  50.2536  -96.0612     66.85        45          90   \n",
       "1        Rikitea -23.1203 -134.9692     74.08        76          14   \n",
       "2   Punta Arenas -53.1500  -70.9167     41.11        81          20   \n",
       "3         Kaliua  -5.0606   31.7936     68.90        30          68   \n",
       "4      Cape Town -33.9258   18.4232     58.87        86          75   \n",
       "\n",
       "   Wind Speed Country        Date  \n",
       "0        5.48      CA  1632097829  \n",
       "1       11.52      PF  1632097830  \n",
       "2       18.41      CL  1632097830  \n",
       "3        5.79      TZ  1632097831  \n",
       "4        1.99      ZA  1632097777  "
      ]
     },
     "metadata": {},
     "execution_count": 5
    }
   ],
   "metadata": {}
  },
  {
   "cell_type": "markdown",
   "source": [
    "### Humidity Heatmap\n",
    "* Configure gmaps.\n",
    "* Use the Lat and Lng as locations and Humidity as the weight.\n",
    "* Add Heatmap layer to map."
   ],
   "metadata": {}
  },
  {
   "cell_type": "code",
   "execution_count": 24,
   "source": [
    "#configure gmaps\r\n",
    "gmaps.configure(api_key= g_key)\r\n",
    "\r\n",
    "#create map\r\n",
    "fig = gmaps.figure()\r\n",
    "\r\n",
    "#create heat layer, weight in humidity\r\n",
    "heatmap_layer = gmaps.heatmap_layer(\r\n",
    "    cities_df[['Lat', 'Lng']], weights=cities_df['Humidity'],\r\n",
    "    max_intensity=30, point_radius=3,\r\n",
    ")\r\n",
    "\r\n",
    "#zoom in the map\r\n",
    "fig= gmaps.figure(zoom_level=2, center= (0,0))\r\n",
    "\r\n",
    "#add heat layer to map\r\n",
    "fig.add_layer(heatmap_layer)\r\n",
    "\r\n",
    "#show\r\n",
    "fig"
   ],
   "outputs": [
    {
     "output_type": "display_data",
     "data": {
      "application/vnd.jupyter.widget-view+json": {
       "version_major": 2,
       "version_minor": 0,
       "model_id": "79078fe8300542fa93099a10a7877ced"
      },
      "text/plain": [
       "Figure(layout=FigureLayout(height='420px'))"
      ]
     },
     "metadata": {}
    }
   ],
   "metadata": {}
  },
  {
   "cell_type": "code",
   "execution_count": null,
   "source": [],
   "outputs": [],
   "metadata": {}
  },
  {
   "cell_type": "markdown",
   "source": [
    "### Create new DataFrame fitting weather criteria\n",
    "* Narrow down the cities to fit weather conditions.\n",
    "* Drop any rows will null values."
   ],
   "metadata": {}
  },
  {
   "cell_type": "code",
   "execution_count": 32,
   "source": [
    "#narrow down data for ideal weather: temp between 70 and 80 degrees, winds less than 10 mph and zero cloudiness \r\n",
    "ideal_df= cities_df[(cities_df['Max Temp']>70) &(cities_df['Max Temp'] <80) & (cities_df['Wind Speed']<10) & \r\n",
    "(cities_df['Cloudiness'] ==0)]\r\n",
    "len(ideal_df)"
   ],
   "outputs": [
    {
     "output_type": "execute_result",
     "data": {
      "text/plain": [
       "17"
      ]
     },
     "metadata": {},
     "execution_count": 32
    }
   ],
   "metadata": {}
  },
  {
   "cell_type": "markdown",
   "source": [
    "### Hotel Map\n",
    "* Store into variable named `hotel_df`.\n",
    "* Add a \"Hotel Name\" column to the DataFrame.\n",
    "* Set parameters to search for hotels with 5000 meters.\n",
    "* Hit the Google Places API for each city's coordinates.\n",
    "* Store the first Hotel result into the DataFrame.\n",
    "* Plot markers on top of the heatmap."
   ],
   "metadata": {}
  },
  {
   "cell_type": "code",
   "execution_count": 43,
   "source": [
    "#adding column to df\r\n",
    "hotel_df = ideal_df.loc[:, ['City', 'Country', 'Lat', 'Lng', 'Cloudiness', 'Max Temp']]\r\n",
    "hotel_df['Hotel Name'] = \"\"\r\n",
    "hotel_df.head()\r\n"
   ],
   "outputs": [
    {
     "output_type": "execute_result",
     "data": {
      "text/html": [
       "<div>\n",
       "<style scoped>\n",
       "    .dataframe tbody tr th:only-of-type {\n",
       "        vertical-align: middle;\n",
       "    }\n",
       "\n",
       "    .dataframe tbody tr th {\n",
       "        vertical-align: top;\n",
       "    }\n",
       "\n",
       "    .dataframe thead th {\n",
       "        text-align: right;\n",
       "    }\n",
       "</style>\n",
       "<table border=\"1\" class=\"dataframe\">\n",
       "  <thead>\n",
       "    <tr style=\"text-align: right;\">\n",
       "      <th></th>\n",
       "      <th>City</th>\n",
       "      <th>Country</th>\n",
       "      <th>Lat</th>\n",
       "      <th>Lng</th>\n",
       "      <th>Cloudiness</th>\n",
       "      <th>Max Temp</th>\n",
       "      <th>Hotel Name</th>\n",
       "    </tr>\n",
       "  </thead>\n",
       "  <tbody>\n",
       "    <tr>\n",
       "      <th>41</th>\n",
       "      <td>Maceió</td>\n",
       "      <td>BR</td>\n",
       "      <td>-9.6658</td>\n",
       "      <td>-35.7353</td>\n",
       "      <td>0</td>\n",
       "      <td>74.64</td>\n",
       "      <td></td>\n",
       "    </tr>\n",
       "    <tr>\n",
       "      <th>120</th>\n",
       "      <td>Flinders</td>\n",
       "      <td>AU</td>\n",
       "      <td>-34.5833</td>\n",
       "      <td>150.8552</td>\n",
       "      <td>0</td>\n",
       "      <td>74.21</td>\n",
       "      <td></td>\n",
       "    </tr>\n",
       "    <tr>\n",
       "      <th>211</th>\n",
       "      <td>Nagua</td>\n",
       "      <td>DO</td>\n",
       "      <td>19.3832</td>\n",
       "      <td>-69.8474</td>\n",
       "      <td>0</td>\n",
       "      <td>78.44</td>\n",
       "      <td></td>\n",
       "    </tr>\n",
       "    <tr>\n",
       "      <th>257</th>\n",
       "      <td>Turbat</td>\n",
       "      <td>PK</td>\n",
       "      <td>26.0023</td>\n",
       "      <td>63.0440</td>\n",
       "      <td>0</td>\n",
       "      <td>79.65</td>\n",
       "      <td></td>\n",
       "    </tr>\n",
       "    <tr>\n",
       "      <th>266</th>\n",
       "      <td>Dakar</td>\n",
       "      <td>SN</td>\n",
       "      <td>14.6937</td>\n",
       "      <td>-17.4441</td>\n",
       "      <td>0</td>\n",
       "      <td>78.93</td>\n",
       "      <td></td>\n",
       "    </tr>\n",
       "  </tbody>\n",
       "</table>\n",
       "</div>"
      ],
      "text/plain": [
       "         City Country      Lat       Lng  Cloudiness  Max Temp Hotel Name\n",
       "41     Maceió      BR  -9.6658  -35.7353           0     74.64           \n",
       "120  Flinders      AU -34.5833  150.8552           0     74.21           \n",
       "211     Nagua      DO  19.3832  -69.8474           0     78.44           \n",
       "257    Turbat      PK  26.0023   63.0440           0     79.65           \n",
       "266     Dakar      SN  14.6937  -17.4441           0     78.93           "
      ]
     },
     "metadata": {},
     "execution_count": 43
    }
   ],
   "metadata": {}
  },
  {
   "cell_type": "code",
   "execution_count": 48,
   "source": [
    "#url for google places api and params\r\n",
    "base_url = \"https://maps.googleapis.com/maps/api/place/nearbysearch/json\"\r\n",
    "\r\n",
    "params= {'type':'hotel','keyword':'hotel','radius':5000,'key': g_key}"
   ],
   "outputs": [],
   "metadata": {}
  },
  {
   "cell_type": "code",
   "execution_count": 52,
   "source": [
    "for index, row in hotel_df.iterrows():\r\n",
    "    lat= row['Lat']\r\n",
    "    lng= row['Lng']\r\n",
    "    city= row['City']\r\n",
    "\r\n",
    "    params['location']=f'{lat},{lng}'\r\n",
    "\r\n",
    "    print(f'Index{index}: {city}')\r\n",
    "    response= requests.get(base_url,params=params).json()\r\n",
    "    results= response['results']\r\n",
    "\r\n",
    "    try:\r\n",
    "        print(f\"Nearest hotel to {city} is {results[0]['name']}\")\r\n",
    "        hotel_df.loc[index, \"Hotel Name\"]= results[0]['name']\r\n",
    "\r\n",
    "    except:\r\n",
    "        print(f'No hotel found near {city}')\r\n",
    "        hotel_df.loc[index, 'Hotel Name']= np.nan\r\n"
   ],
   "outputs": [
    {
     "output_type": "stream",
     "name": "stdout",
     "text": [
      "Index41: Maceió\n",
      "Nearest hotel to Maceió is Jatiúca Hotel & Resort\n",
      "Index120: Flinders\n",
      "Nearest hotel to Flinders is Lakeview Hotel Motel\n",
      "Index211: Nagua\n",
      "Nearest hotel to Nagua is Hotel Cambri\n",
      "Index257: Turbat\n",
      "Nearest hotel to Turbat is Khand a Hotel\n",
      "Index266: Dakar\n",
      "Nearest hotel to Dakar is Radisson Blu Hotel, Dakar Sea Plaza\n",
      "Index269: Charlestown\n",
      "Nearest hotel to Charlestown is ibis budget Newcastle\n",
      "Index328: Emerald\n",
      "Nearest hotel to Emerald is Route 66 Motor Inn\n",
      "Index346: Pāsighāt\n",
      "Nearest hotel to Pāsighāt is The Serene Abode, Pasighat (A.P)\n",
      "Index352: Marsá Maţrūḩ\n",
      "Nearest hotel to Marsá Maţrūḩ is Beau Site\n",
      "Index353: Tabas\n",
      "Nearest hotel to Tabas is هتل\n",
      "Index356: Bolivar\n",
      "Nearest hotel to Bolivar is Best Western Plus Bolivar Hotel & Suites\n",
      "Index362: Port Macquarie\n",
      "Nearest hotel to Port Macquarie is Port Macquarie Hotel\n",
      "Index460: Kiryat Gat\n",
      "Nearest hotel to Kiryat Gat is Desert Gat\n",
      "Index495: Korla\n",
      "Nearest hotel to Korla is The Garden Hotel Korla\n",
      "Index517: Taihe\n",
      "Nearest hotel to Taihe is Hongsheng Hotel\n",
      "Index545: Uniāra\n",
      "No hotel found near Uniāra\n",
      "Index546: Alexandria\n",
      "Nearest hotel to Alexandria is Plaza Hotel Alexandria\n"
     ]
    }
   ],
   "metadata": {}
  },
  {
   "cell_type": "code",
   "execution_count": 53,
   "source": [
    "hotel_df.head()"
   ],
   "outputs": [
    {
     "output_type": "execute_result",
     "data": {
      "text/html": [
       "<div>\n",
       "<style scoped>\n",
       "    .dataframe tbody tr th:only-of-type {\n",
       "        vertical-align: middle;\n",
       "    }\n",
       "\n",
       "    .dataframe tbody tr th {\n",
       "        vertical-align: top;\n",
       "    }\n",
       "\n",
       "    .dataframe thead th {\n",
       "        text-align: right;\n",
       "    }\n",
       "</style>\n",
       "<table border=\"1\" class=\"dataframe\">\n",
       "  <thead>\n",
       "    <tr style=\"text-align: right;\">\n",
       "      <th></th>\n",
       "      <th>City</th>\n",
       "      <th>Country</th>\n",
       "      <th>Lat</th>\n",
       "      <th>Lng</th>\n",
       "      <th>Cloudiness</th>\n",
       "      <th>Max Temp</th>\n",
       "      <th>Hotel Name</th>\n",
       "    </tr>\n",
       "  </thead>\n",
       "  <tbody>\n",
       "    <tr>\n",
       "      <th>41</th>\n",
       "      <td>Maceió</td>\n",
       "      <td>BR</td>\n",
       "      <td>-9.6658</td>\n",
       "      <td>-35.7353</td>\n",
       "      <td>0</td>\n",
       "      <td>74.64</td>\n",
       "      <td>Jatiúca Hotel &amp; Resort</td>\n",
       "    </tr>\n",
       "    <tr>\n",
       "      <th>120</th>\n",
       "      <td>Flinders</td>\n",
       "      <td>AU</td>\n",
       "      <td>-34.5833</td>\n",
       "      <td>150.8552</td>\n",
       "      <td>0</td>\n",
       "      <td>74.21</td>\n",
       "      <td>Lakeview Hotel Motel</td>\n",
       "    </tr>\n",
       "    <tr>\n",
       "      <th>211</th>\n",
       "      <td>Nagua</td>\n",
       "      <td>DO</td>\n",
       "      <td>19.3832</td>\n",
       "      <td>-69.8474</td>\n",
       "      <td>0</td>\n",
       "      <td>78.44</td>\n",
       "      <td>Hotel Cambri</td>\n",
       "    </tr>\n",
       "    <tr>\n",
       "      <th>257</th>\n",
       "      <td>Turbat</td>\n",
       "      <td>PK</td>\n",
       "      <td>26.0023</td>\n",
       "      <td>63.0440</td>\n",
       "      <td>0</td>\n",
       "      <td>79.65</td>\n",
       "      <td>Khand a Hotel</td>\n",
       "    </tr>\n",
       "    <tr>\n",
       "      <th>266</th>\n",
       "      <td>Dakar</td>\n",
       "      <td>SN</td>\n",
       "      <td>14.6937</td>\n",
       "      <td>-17.4441</td>\n",
       "      <td>0</td>\n",
       "      <td>78.93</td>\n",
       "      <td>Radisson Blu Hotel, Dakar Sea Plaza</td>\n",
       "    </tr>\n",
       "  </tbody>\n",
       "</table>\n",
       "</div>"
      ],
      "text/plain": [
       "         City Country      Lat       Lng  Cloudiness  Max Temp  \\\n",
       "41     Maceió      BR  -9.6658  -35.7353           0     74.64   \n",
       "120  Flinders      AU -34.5833  150.8552           0     74.21   \n",
       "211     Nagua      DO  19.3832  -69.8474           0     78.44   \n",
       "257    Turbat      PK  26.0023   63.0440           0     79.65   \n",
       "266     Dakar      SN  14.6937  -17.4441           0     78.93   \n",
       "\n",
       "                              Hotel Name  \n",
       "41                Jatiúca Hotel & Resort  \n",
       "120                 Lakeview Hotel Motel  \n",
       "211                         Hotel Cambri  \n",
       "257                        Khand a Hotel  \n",
       "266  Radisson Blu Hotel, Dakar Sea Plaza  "
      ]
     },
     "metadata": {},
     "execution_count": 53
    }
   ],
   "metadata": {}
  },
  {
   "cell_type": "code",
   "execution_count": null,
   "source": [],
   "outputs": [],
   "metadata": {}
  },
  {
   "cell_type": "code",
   "execution_count": 54,
   "source": [
    "# NOTE: Do not change any of the code in this cell\r\n",
    "\r\n",
    "# Using the template add the hotel marks to the heatmap\r\n",
    "info_box_template = \"\"\"\r\n",
    "<dl>\r\n",
    "<dt>Name</dt><dd>{Hotel Name}</dd>\r\n",
    "<dt>City</dt><dd>{City}</dd>\r\n",
    "<dt>Country</dt><dd>{Country}</dd>\r\n",
    "</dl>\r\n",
    "\"\"\"\r\n",
    "# Store the DataFrame Row\r\n",
    "# NOTE: be sure to update with your DataFrame name\r\n",
    "hotel_info = [info_box_template.format(**row) for index, row in hotel_df.iterrows()]\r\n",
    "locations = hotel_df[[\"Lat\", \"Lng\"]]"
   ],
   "outputs": [],
   "metadata": {}
  },
  {
   "cell_type": "code",
   "execution_count": 55,
   "source": [
    "# Add marker layer ontop of heat map\r\n",
    "\r\n",
    "marker_layer = gmaps.marker_layer(locations, info_box_content = hotel_info)\r\n",
    "fig.add_layer(marker_layer)\r\n",
    "\r\n",
    "# Display figure\r\n",
    "fig"
   ],
   "outputs": [
    {
     "output_type": "display_data",
     "data": {
      "application/vnd.jupyter.widget-view+json": {
       "version_major": 2,
       "version_minor": 0,
       "model_id": "79078fe8300542fa93099a10a7877ced"
      },
      "text/plain": [
       "Figure(layout=FigureLayout(height='420px'))"
      ]
     },
     "metadata": {}
    }
   ],
   "metadata": {}
  },
  {
   "cell_type": "code",
   "execution_count": null,
   "source": [],
   "outputs": [],
   "metadata": {}
  }
 ],
 "metadata": {
  "kernelspec": {
   "name": "python3",
   "display_name": "Python 3.6.13 64-bit ('PythonData': conda)"
  },
  "language_info": {
   "codemirror_mode": {
    "name": "ipython",
    "version": 3
   },
   "file_extension": ".py",
   "mimetype": "text/x-python",
   "name": "python",
   "nbconvert_exporter": "python",
   "pygments_lexer": "ipython3",
   "version": "3.6.13"
  },
  "latex_envs": {
   "LaTeX_envs_menu_present": true,
   "autoclose": false,
   "autocomplete": true,
   "bibliofile": "biblio.bib",
   "cite_by": "apalike",
   "current_citInitial": 1,
   "eqLabelWithNumbers": true,
   "eqNumInitial": 1,
   "hotkeys": {
    "equation": "Ctrl-E",
    "itemize": "Ctrl-I"
   },
   "labels_anchors": false,
   "latex_user_defs": false,
   "report_style_numbering": false,
   "user_envs_cfg": false
  },
  "interpreter": {
   "hash": "37ef15883f25c44fdc88a73d94f4822875972bab1f39398606ab15c33ff32e1b"
  }
 },
 "nbformat": 4,
 "nbformat_minor": 4
}